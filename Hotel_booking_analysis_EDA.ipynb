{
  "cells": [
    {
      "cell_type": "markdown",
      "metadata": {
        "id": "vncDsAP0Gaoa"
      },
      "source": [
        "# **HOTEL BOOKING ANALYSIS**\n",
        "\n",
        "\n"
      ]
    },
    {
      "cell_type": "markdown",
      "metadata": {
        "id": "beRrZCGUAJYm"
      },
      "source": [
        "##### **Project Type**    - EDA\n",
        "##### **Contribution**    - Team\n",
        "##### **Team Member 1 -**Dharmendra Yadav\n",
        "##### **Team Member 2 -**Kratika Jawariya\n",
        "##### **Team Member 3 -**Pranita tiwari\n"
      ]
    },
    {
      "cell_type": "markdown",
      "metadata": {
        "id": "FJNUwmbgGyua"
      },
      "source": [
        "# **Project Summary**"
      ]
    },
    {
      "cell_type": "markdown",
      "metadata": {
        "id": "F6v_1wHtG2nS"
      },
      "source": [
        "\n",
        "The objective of this project is to conduct Exploratory Data Analysis (EDA) on a dataset related to hotel bookings.  By performing thorough exploratory analysis, we aim to uncover patterns, trends, and relationships within the dataset, which can provide valuable information to enhance decision-making processes in the hospitality industry.\n",
        "The analysis focuses on several key aspects, including booking analysis, cancellation analysis, average daily rate (ADR) analysis, and customer retention.\n",
        "\n",
        "#### **Data wrangling**:\n",
        "The project begins with data wrangling tasks to ensure the data is in a suitable format for analysis. The data will be preprocessed to handle missing values, Removing duplicated columns, Created new columns and Changing data types. Relevant data cleaning techniques will be applied to ensure the quality of the dataset. Once the data wrangling phase is complete, the project moves on to the exploratory data analysis.\n",
        "\n",
        "#### **Exploratory Data Analysis**:\n",
        "The core phase of the project will involve conducting a comprehensive exploratory analysis. Throughout the analysis, visualizations using matplotlib and seaborn are employed to present the findings effectively. These visualizations aid in the interpretation and communication of the insights derived from the data. This will include investigating correlations between variables, identifying trends over time, and exploring patterns in customer behavior.\n",
        "\n",
        "We will do the following type of analysis on our dataset:\n",
        "\n",
        "**1. Customer Demographics**:\n",
        "\n",
        "The analysis included factors such as customer nationality, market segments, and customer types (transient, contract, group). These insights can help tailor marketing strategies and target specific customer segments effectively.\n",
        "Booking Patterns:\n",
        "\n",
        "Understanding booking patterns, such as lead time, booking duration, and booking changes, provides insights into customer behavior and preferences. This information can guide revenue management strategies and optimize booking processes.\n",
        "\n",
        "**2. Distribution Channels:**\n",
        "\n",
        "The analysis examined different distribution channels, including online travel agents (OTA), direct bookings, and global distribution systems (GDS). Insights on revenue generation and booking cancellations from various channels can help hotels optimize their distribution strategies and improve revenue streams.\n",
        "\n",
        "**3. Cancellations:**\n",
        "\n",
        "The analysis delved into the reasons behind booking cancellations, exploring factors such as waiting time, lead time, and room type allocation. Identifying significant cancellation percentages for specific distribution channels (e.g., OTA) highlights areas for improvement and potential revenue loss.\n",
        "\n",
        "**4. Revenue Generation:**\n",
        "\n",
        "The analysis compared average daily rates (ADR) for different hotels, distribution channels, and months. Understanding revenue generation patterns can assist in pricing strategies, optimizing channel mix, and capitalizing on high-demand periods.\n",
        "\n",
        "**5. Seasonal Trends:**\n",
        "\n",
        "The analysis uncovered seasonal trends in terms of the number of guests, revenue, and ADR. Identifying peak months, such as August, can help hotels allocate resources effectively, manage staff levels, and tailor marketing campaigns to maximize occupancy and revenue during these periods.\n",
        "The gained insights can positively impact the business in several ways:\n",
        "\n",
        "**6. Data-Driven Decision-Making:**\n",
        "\n",
        "By leveraging the insights from the analysis, hotels can make informed decisions based on data, enabling them to optimize pricing strategies, allocate resources effectively, and improve overall operational efficiency.\n",
        "Revenue Management:\n",
        "\n",
        "Understanding the factors influencing revenue generation, such as distribution channels and seasonal trends, empowers hotels to implement effective revenue management strategies. This includes adjusting pricing, managing inventory, and targeting specific customer segments to maximize revenue potential.\n",
        "\n",
        "**7. Enhanced Customer Experience:**\n",
        "\n",
        "The analysis of customer demographics and booking patterns provides valuable insights into customer preferences and behaviors. Hotels can use this information to tailor their services, improve guest experiences, and build customer loyalty.\n",
        "\n",
        "**8. Marketing and Distribution Optimization:**\n",
        "\n",
        "Insights on distribution channel performance, cancellation rates, and revenue generation can guide hotels in optimizing their marketing and distribution strategies. This may involve strengthening partnerships with high-performing channels, improving outreach on underperforming channels, and addressing cancellation issues through targeted measures.\n",
        "\n",
        "**9. Competitive Advantage:**\n",
        "\n",
        "Utilizing data-driven insights allows hotels to gain a competitive edge in the market. By understanding customer preferences, optimizing pricing, and aligning marketing efforts with seasonal trends, hotels can position themselves strategically to attract more guests and achieve higher revenue compared to their competitors.\n",
        "\n",
        "While the analysis provided valuable insights, it is essential to continuously monitor and update the analysis based on changing market dynamics and evolving customer behaviors. Additionally, integrating external data sources, such as market trends and competitor analysis, can further enhance the depth and accuracy of the analysis.\n",
        "\n",
        "The findings from the EDA will be summarized in a comprehensive report, supported by clear visualizations and actionable insights. The report will highlight key trends, patterns, and recommendations based on the data analysis. These insights can be leveraged by hotel management to optimize pricing strategies, improve customer satisfaction, and enhance overall operational efficiency."
      ]
    },
    {
      "cell_type": "markdown",
      "metadata": {
        "id": "yQaldy8SH6Dl"
      },
      "source": [
        "# **Problem Statement**\n"
      ]
    },
    {
      "cell_type": "markdown",
      "source": [
        "Q1) Which agent makes the most no. of bookings?\n",
        "\n",
        " Q2) Which room type is in most demand and which room type generates the highest ADR?\n",
        "\n",
        " Q3) Which meal type is the most preferred meal for customers?\n",
        "\n",
        " Q4) What is the percentage of bookings in each hotel?\n",
        "\n",
        " Q5) Which is the most common channel for booking hotels?\n",
        "\n",
        " Q6) Which are the busiest months?\n",
        "\n",
        " Q7) From which country most of the guests are coming?\n",
        "\n",
        " Q8) How long do people stay at the hotels?\n",
        "\n",
        " Q9) Which hotel seems to make more revenue?\n",
        "\n",
        " Q10) Which hotel has a higher lead time?\n",
        "\n",
        " Q11) What is the preferred stay length in each hotel?\n",
        "\n",
        " Q12) Which hotel has a higher bookings cancellation rate?\n",
        "\n",
        " Q13) Which hotel has a high chance that its customer will return for another stay?\n",
        "\n",
        " Q14) Which channel is mostly used for the early booking of hotels?\n",
        "\n",
        " Q15) Which channel has a longer average waiting time?\n",
        "\n",
        " Q16) Which distribution channel brings better revenue-generating deals for hotels?\n",
        "\n",
        " Q17) Which significant distribution channel has the highest cancellation percentage?\n",
        "\n",
        " Q18) Does a longer waiting period or longer-lead time causes the cancellation of bookings?\n",
        "\n",
        " Q19) Whether not getting allotted the same room type as demand the main cause of cancellation for bookings?\n",
        "\n",
        " Q20) Does not allowing the same room as demanded to affect ADR?"
      ],
      "metadata": {
        "id": "5QMDBR8I_5sy"
      }
    },
    {
      "cell_type": "markdown",
      "metadata": {
        "id": "PH-0ReGfmX4f"
      },
      "source": [
        "#### **Define Your Business Objective?**"
      ]
    },
    {
      "cell_type": "markdown",
      "metadata": {
        "id": "PhDvGCAqmjP1"
      },
      "source": [
        "The objective of this project is to perfrom an EDA on hotel booking dataset to gain some insights which will be helpful in understanding the patterns and trends in booking analysis, cancellation analysis, Revnue analysis, customer segmentation and competitive analysis.\n",
        "The valuable insights gained will be helpful in improving the operational efficiency, better finance management, increasing revnue, support data-driven decision-making and competitive positioning."
      ]
    },
    {
      "cell_type": "markdown",
      "metadata": {
        "id": "O_i_v8NEhb9l"
      },
      "source": [
        "# ***Let's Begin !***"
      ]
    },
    {
      "cell_type": "markdown",
      "source": [
        "## ***1. Know your Data***\n"
      ],
      "metadata": {
        "id": "eP3XLlbjaX96"
      }
    },
    {
      "cell_type": "markdown",
      "source": [
        "Import libraries\n"
      ],
      "metadata": {
        "id": "gw3hDGklbeBF"
      }
    },
    {
      "cell_type": "code",
      "source": [
        "# importing libraries\n",
        "import numpy as np\n",
        "import pandas as pd\n",
        "import matplotlib\n",
        "import matplotlib.pyplot as plt\n",
        "import seaborn as sns\n",
        "%matplotlib inline"
      ],
      "metadata": {
        "id": "mJ_GRGuJbs9_"
      },
      "execution_count": 1,
      "outputs": []
    },
    {
      "cell_type": "markdown",
      "source": [
        "Dataset loading\n"
      ],
      "metadata": {
        "id": "bASNDyQ_wP-U"
      }
    },
    {
      "cell_type": "code",
      "source": [
        "# mounting drive\n",
        "from google.colab import drive\n",
        "drive.mount('/content/drive')"
      ],
      "metadata": {
        "id": "h9_oJ6xJwXRN",
        "outputId": "f614851f-529b-44b0-d8ce-7dcf4661521f",
        "colab": {
          "base_uri": "https://localhost:8080/"
        }
      },
      "execution_count": null,
      "outputs": [
        {
          "output_type": "stream",
          "name": "stdout",
          "text": [
            "Mounted at /content/drive\n"
          ]
        }
      ]
    },
    {
      "cell_type": "code",
      "source": [
        "# reading the Dataset\n",
        "path = \"/content/drive/MyDrive/capstone project data/Hotel Bookings.csv\"\n",
        "hotel_df = pd.read_csv(path)"
      ],
      "metadata": {
        "id": "5itCU7JN0RAj"
      },
      "execution_count": null,
      "outputs": []
    },
    {
      "cell_type": "markdown",
      "source": [
        "Data set first **look**"
      ],
      "metadata": {
        "id": "mclIVhXe1C8n"
      }
    },
    {
      "cell_type": "code",
      "source": [
        "hotel_df.head()"
      ],
      "metadata": {
        "id": "nSYfLtLE1KCr",
        "outputId": "da528eec-859b-484b-b298-bf60727b3190",
        "colab": {
          "base_uri": "https://localhost:8080/"
        }
      },
      "execution_count": null,
      "outputs": [
        {
          "output_type": "execute_result",
          "data": {
            "text/plain": [
              "          hotel  is_canceled  lead_time  arrival_date_year arrival_date_month  \\\n",
              "0  Resort Hotel            0        342               2015               July   \n",
              "1  Resort Hotel            0        737               2015               July   \n",
              "2  Resort Hotel            0          7               2015               July   \n",
              "3  Resort Hotel            0         13               2015               July   \n",
              "4  Resort Hotel            0         14               2015               July   \n",
              "\n",
              "   arrival_date_week_number  arrival_date_day_of_month  \\\n",
              "0                        27                          1   \n",
              "1                        27                          1   \n",
              "2                        27                          1   \n",
              "3                        27                          1   \n",
              "4                        27                          1   \n",
              "\n",
              "   stays_in_weekend_nights  stays_in_week_nights  adults  ...  deposit_type  \\\n",
              "0                        0                     0       2  ...    No Deposit   \n",
              "1                        0                     0       2  ...    No Deposit   \n",
              "2                        0                     1       1  ...    No Deposit   \n",
              "3                        0                     1       1  ...    No Deposit   \n",
              "4                        0                     2       2  ...    No Deposit   \n",
              "\n",
              "   agent company days_in_waiting_list customer_type   adr  \\\n",
              "0    NaN     NaN                    0     Transient   0.0   \n",
              "1    NaN     NaN                    0     Transient   0.0   \n",
              "2    NaN     NaN                    0     Transient  75.0   \n",
              "3  304.0     NaN                    0     Transient  75.0   \n",
              "4  240.0     NaN                    0     Transient  98.0   \n",
              "\n",
              "   required_car_parking_spaces  total_of_special_requests  reservation_status  \\\n",
              "0                            0                          0           Check-Out   \n",
              "1                            0                          0           Check-Out   \n",
              "2                            0                          0           Check-Out   \n",
              "3                            0                          0           Check-Out   \n",
              "4                            0                          1           Check-Out   \n",
              "\n",
              "  reservation_status_date  \n",
              "0              2015-07-01  \n",
              "1              2015-07-01  \n",
              "2              2015-07-02  \n",
              "3              2015-07-02  \n",
              "4              2015-07-03  \n",
              "\n",
              "[5 rows x 32 columns]"
            ],
            "text/html": [
              "\n",
              "  <div id=\"df-c556101c-0066-47e4-abec-675d908b4d02\">\n",
              "    <div class=\"colab-df-container\">\n",
              "      <div>\n",
              "<style scoped>\n",
              "    .dataframe tbody tr th:only-of-type {\n",
              "        vertical-align: middle;\n",
              "    }\n",
              "\n",
              "    .dataframe tbody tr th {\n",
              "        vertical-align: top;\n",
              "    }\n",
              "\n",
              "    .dataframe thead th {\n",
              "        text-align: right;\n",
              "    }\n",
              "</style>\n",
              "<table border=\"1\" class=\"dataframe\">\n",
              "  <thead>\n",
              "    <tr style=\"text-align: right;\">\n",
              "      <th></th>\n",
              "      <th>hotel</th>\n",
              "      <th>is_canceled</th>\n",
              "      <th>lead_time</th>\n",
              "      <th>arrival_date_year</th>\n",
              "      <th>arrival_date_month</th>\n",
              "      <th>arrival_date_week_number</th>\n",
              "      <th>arrival_date_day_of_month</th>\n",
              "      <th>stays_in_weekend_nights</th>\n",
              "      <th>stays_in_week_nights</th>\n",
              "      <th>adults</th>\n",
              "      <th>...</th>\n",
              "      <th>deposit_type</th>\n",
              "      <th>agent</th>\n",
              "      <th>company</th>\n",
              "      <th>days_in_waiting_list</th>\n",
              "      <th>customer_type</th>\n",
              "      <th>adr</th>\n",
              "      <th>required_car_parking_spaces</th>\n",
              "      <th>total_of_special_requests</th>\n",
              "      <th>reservation_status</th>\n",
              "      <th>reservation_status_date</th>\n",
              "    </tr>\n",
              "  </thead>\n",
              "  <tbody>\n",
              "    <tr>\n",
              "      <th>0</th>\n",
              "      <td>Resort Hotel</td>\n",
              "      <td>0</td>\n",
              "      <td>342</td>\n",
              "      <td>2015</td>\n",
              "      <td>July</td>\n",
              "      <td>27</td>\n",
              "      <td>1</td>\n",
              "      <td>0</td>\n",
              "      <td>0</td>\n",
              "      <td>2</td>\n",
              "      <td>...</td>\n",
              "      <td>No Deposit</td>\n",
              "      <td>NaN</td>\n",
              "      <td>NaN</td>\n",
              "      <td>0</td>\n",
              "      <td>Transient</td>\n",
              "      <td>0.0</td>\n",
              "      <td>0</td>\n",
              "      <td>0</td>\n",
              "      <td>Check-Out</td>\n",
              "      <td>2015-07-01</td>\n",
              "    </tr>\n",
              "    <tr>\n",
              "      <th>1</th>\n",
              "      <td>Resort Hotel</td>\n",
              "      <td>0</td>\n",
              "      <td>737</td>\n",
              "      <td>2015</td>\n",
              "      <td>July</td>\n",
              "      <td>27</td>\n",
              "      <td>1</td>\n",
              "      <td>0</td>\n",
              "      <td>0</td>\n",
              "      <td>2</td>\n",
              "      <td>...</td>\n",
              "      <td>No Deposit</td>\n",
              "      <td>NaN</td>\n",
              "      <td>NaN</td>\n",
              "      <td>0</td>\n",
              "      <td>Transient</td>\n",
              "      <td>0.0</td>\n",
              "      <td>0</td>\n",
              "      <td>0</td>\n",
              "      <td>Check-Out</td>\n",
              "      <td>2015-07-01</td>\n",
              "    </tr>\n",
              "    <tr>\n",
              "      <th>2</th>\n",
              "      <td>Resort Hotel</td>\n",
              "      <td>0</td>\n",
              "      <td>7</td>\n",
              "      <td>2015</td>\n",
              "      <td>July</td>\n",
              "      <td>27</td>\n",
              "      <td>1</td>\n",
              "      <td>0</td>\n",
              "      <td>1</td>\n",
              "      <td>1</td>\n",
              "      <td>...</td>\n",
              "      <td>No Deposit</td>\n",
              "      <td>NaN</td>\n",
              "      <td>NaN</td>\n",
              "      <td>0</td>\n",
              "      <td>Transient</td>\n",
              "      <td>75.0</td>\n",
              "      <td>0</td>\n",
              "      <td>0</td>\n",
              "      <td>Check-Out</td>\n",
              "      <td>2015-07-02</td>\n",
              "    </tr>\n",
              "    <tr>\n",
              "      <th>3</th>\n",
              "      <td>Resort Hotel</td>\n",
              "      <td>0</td>\n",
              "      <td>13</td>\n",
              "      <td>2015</td>\n",
              "      <td>July</td>\n",
              "      <td>27</td>\n",
              "      <td>1</td>\n",
              "      <td>0</td>\n",
              "      <td>1</td>\n",
              "      <td>1</td>\n",
              "      <td>...</td>\n",
              "      <td>No Deposit</td>\n",
              "      <td>304.0</td>\n",
              "      <td>NaN</td>\n",
              "      <td>0</td>\n",
              "      <td>Transient</td>\n",
              "      <td>75.0</td>\n",
              "      <td>0</td>\n",
              "      <td>0</td>\n",
              "      <td>Check-Out</td>\n",
              "      <td>2015-07-02</td>\n",
              "    </tr>\n",
              "    <tr>\n",
              "      <th>4</th>\n",
              "      <td>Resort Hotel</td>\n",
              "      <td>0</td>\n",
              "      <td>14</td>\n",
              "      <td>2015</td>\n",
              "      <td>July</td>\n",
              "      <td>27</td>\n",
              "      <td>1</td>\n",
              "      <td>0</td>\n",
              "      <td>2</td>\n",
              "      <td>2</td>\n",
              "      <td>...</td>\n",
              "      <td>No Deposit</td>\n",
              "      <td>240.0</td>\n",
              "      <td>NaN</td>\n",
              "      <td>0</td>\n",
              "      <td>Transient</td>\n",
              "      <td>98.0</td>\n",
              "      <td>0</td>\n",
              "      <td>1</td>\n",
              "      <td>Check-Out</td>\n",
              "      <td>2015-07-03</td>\n",
              "    </tr>\n",
              "  </tbody>\n",
              "</table>\n",
              "<p>5 rows × 32 columns</p>\n",
              "</div>\n",
              "      <button class=\"colab-df-convert\" onclick=\"convertToInteractive('df-c556101c-0066-47e4-abec-675d908b4d02')\"\n",
              "              title=\"Convert this dataframe to an interactive table.\"\n",
              "              style=\"display:none;\">\n",
              "        \n",
              "  <svg xmlns=\"http://www.w3.org/2000/svg\" height=\"24px\"viewBox=\"0 0 24 24\"\n",
              "       width=\"24px\">\n",
              "    <path d=\"M0 0h24v24H0V0z\" fill=\"none\"/>\n",
              "    <path d=\"M18.56 5.44l.94 2.06.94-2.06 2.06-.94-2.06-.94-.94-2.06-.94 2.06-2.06.94zm-11 1L8.5 8.5l.94-2.06 2.06-.94-2.06-.94L8.5 2.5l-.94 2.06-2.06.94zm10 10l.94 2.06.94-2.06 2.06-.94-2.06-.94-.94-2.06-.94 2.06-2.06.94z\"/><path d=\"M17.41 7.96l-1.37-1.37c-.4-.4-.92-.59-1.43-.59-.52 0-1.04.2-1.43.59L10.3 9.45l-7.72 7.72c-.78.78-.78 2.05 0 2.83L4 21.41c.39.39.9.59 1.41.59.51 0 1.02-.2 1.41-.59l7.78-7.78 2.81-2.81c.8-.78.8-2.07 0-2.86zM5.41 20L4 18.59l7.72-7.72 1.47 1.35L5.41 20z\"/>\n",
              "  </svg>\n",
              "      </button>\n",
              "      \n",
              "  <style>\n",
              "    .colab-df-container {\n",
              "      display:flex;\n",
              "      flex-wrap:wrap;\n",
              "      gap: 12px;\n",
              "    }\n",
              "\n",
              "    .colab-df-convert {\n",
              "      background-color: #E8F0FE;\n",
              "      border: none;\n",
              "      border-radius: 50%;\n",
              "      cursor: pointer;\n",
              "      display: none;\n",
              "      fill: #1967D2;\n",
              "      height: 32px;\n",
              "      padding: 0 0 0 0;\n",
              "      width: 32px;\n",
              "    }\n",
              "\n",
              "    .colab-df-convert:hover {\n",
              "      background-color: #E2EBFA;\n",
              "      box-shadow: 0px 1px 2px rgba(60, 64, 67, 0.3), 0px 1px 3px 1px rgba(60, 64, 67, 0.15);\n",
              "      fill: #174EA6;\n",
              "    }\n",
              "\n",
              "    [theme=dark] .colab-df-convert {\n",
              "      background-color: #3B4455;\n",
              "      fill: #D2E3FC;\n",
              "    }\n",
              "\n",
              "    [theme=dark] .colab-df-convert:hover {\n",
              "      background-color: #434B5C;\n",
              "      box-shadow: 0px 1px 3px 1px rgba(0, 0, 0, 0.15);\n",
              "      filter: drop-shadow(0px 1px 2px rgba(0, 0, 0, 0.3));\n",
              "      fill: #FFFFFF;\n",
              "    }\n",
              "  </style>\n",
              "\n",
              "      <script>\n",
              "        const buttonEl =\n",
              "          document.querySelector('#df-c556101c-0066-47e4-abec-675d908b4d02 button.colab-df-convert');\n",
              "        buttonEl.style.display =\n",
              "          google.colab.kernel.accessAllowed ? 'block' : 'none';\n",
              "\n",
              "        async function convertToInteractive(key) {\n",
              "          const element = document.querySelector('#df-c556101c-0066-47e4-abec-675d908b4d02');\n",
              "          const dataTable =\n",
              "            await google.colab.kernel.invokeFunction('convertToInteractive',\n",
              "                                                     [key], {});\n",
              "          if (!dataTable) return;\n",
              "\n",
              "          const docLinkHtml = 'Like what you see? Visit the ' +\n",
              "            '<a target=\"_blank\" href=https://colab.research.google.com/notebooks/data_table.ipynb>data table notebook</a>'\n",
              "            + ' to learn more about interactive tables.';\n",
              "          element.innerHTML = '';\n",
              "          dataTable['output_type'] = 'display_data';\n",
              "          await google.colab.output.renderOutput(dataTable, element);\n",
              "          const docLink = document.createElement('div');\n",
              "          docLink.innerHTML = docLinkHtml;\n",
              "          element.appendChild(docLink);\n",
              "        }\n",
              "      </script>\n",
              "    </div>\n",
              "  </div>\n",
              "  "
            ]
          },
          "metadata": {},
          "execution_count": 7
        }
      ]
    },
    {
      "cell_type": "markdown",
      "source": [
        "Dataset Information"
      ],
      "metadata": {
        "id": "7-WoxoHYKqpc"
      }
    },
    {
      "cell_type": "code",
      "source": [
        "# Dataset Info\n",
        "hotel_df.info()"
      ],
      "metadata": {
        "id": "WrGGs0HoKzjc",
        "outputId": "fdba3241-48c5-413a-d454-f5c45b00a790",
        "colab": {
          "base_uri": "https://localhost:8080/"
        }
      },
      "execution_count": null,
      "outputs": [
        {
          "output_type": "stream",
          "name": "stdout",
          "text": [
            "<class 'pandas.core.frame.DataFrame'>\n",
            "RangeIndex: 119390 entries, 0 to 119389\n",
            "Data columns (total 32 columns):\n",
            " #   Column                          Non-Null Count   Dtype  \n",
            "---  ------                          --------------   -----  \n",
            " 0   hotel                           119390 non-null  object \n",
            " 1   is_canceled                     119390 non-null  int64  \n",
            " 2   lead_time                       119390 non-null  int64  \n",
            " 3   arrival_date_year               119390 non-null  int64  \n",
            " 4   arrival_date_month              119390 non-null  object \n",
            " 5   arrival_date_week_number        119390 non-null  int64  \n",
            " 6   arrival_date_day_of_month       119390 non-null  int64  \n",
            " 7   stays_in_weekend_nights         119390 non-null  int64  \n",
            " 8   stays_in_week_nights            119390 non-null  int64  \n",
            " 9   adults                          119390 non-null  int64  \n",
            " 10  children                        119386 non-null  float64\n",
            " 11  babies                          119390 non-null  int64  \n",
            " 12  meal                            119390 non-null  object \n",
            " 13  country                         118902 non-null  object \n",
            " 14  market_segment                  119390 non-null  object \n",
            " 15  distribution_channel            119390 non-null  object \n",
            " 16  is_repeated_guest               119390 non-null  int64  \n",
            " 17  previous_cancellations          119390 non-null  int64  \n",
            " 18  previous_bookings_not_canceled  119390 non-null  int64  \n",
            " 19  reserved_room_type              119390 non-null  object \n",
            " 20  assigned_room_type              119390 non-null  object \n",
            " 21  booking_changes                 119390 non-null  int64  \n",
            " 22  deposit_type                    119390 non-null  object \n",
            " 23  agent                           103050 non-null  float64\n",
            " 24  company                         6797 non-null    float64\n",
            " 25  days_in_waiting_list            119390 non-null  int64  \n",
            " 26  customer_type                   119390 non-null  object \n",
            " 27  adr                             119390 non-null  float64\n",
            " 28  required_car_parking_spaces     119390 non-null  int64  \n",
            " 29  total_of_special_requests       119390 non-null  int64  \n",
            " 30  reservation_status              119390 non-null  object \n",
            " 31  reservation_status_date         119390 non-null  object \n",
            "dtypes: float64(4), int64(16), object(12)\n",
            "memory usage: 29.1+ MB\n"
          ]
        }
      ]
    },
    {
      "cell_type": "markdown",
      "source": [
        " Null values"
      ],
      "metadata": {
        "id": "AFIw_dDhP4Mn"
      }
    },
    {
      "cell_type": "code",
      "source": [
        "# null values\n",
        "null_values = hotel_df.isnull().sum()\n",
        "print(null_values)"
      ],
      "metadata": {
        "id": "0ucqc0SLMaJm",
        "outputId": "a77db31d-b279-4580-bb9f-2cb5ad749bed",
        "colab": {
          "base_uri": "https://localhost:8080/"
        }
      },
      "execution_count": null,
      "outputs": [
        {
          "output_type": "stream",
          "name": "stdout",
          "text": [
            "hotel                                  0\n",
            "is_canceled                            0\n",
            "lead_time                              0\n",
            "arrival_date_year                      0\n",
            "arrival_date_month                     0\n",
            "arrival_date_week_number               0\n",
            "arrival_date_day_of_month              0\n",
            "stays_in_weekend_nights                0\n",
            "stays_in_week_nights                   0\n",
            "adults                                 0\n",
            "children                               4\n",
            "babies                                 0\n",
            "meal                                   0\n",
            "country                              488\n",
            "market_segment                         0\n",
            "distribution_channel                   0\n",
            "is_repeated_guest                      0\n",
            "previous_cancellations                 0\n",
            "previous_bookings_not_canceled         0\n",
            "reserved_room_type                     0\n",
            "assigned_room_type                     0\n",
            "booking_changes                        0\n",
            "deposit_type                           0\n",
            "agent                              16340\n",
            "company                           112593\n",
            "days_in_waiting_list                   0\n",
            "customer_type                          0\n",
            "adr                                    0\n",
            "required_car_parking_spaces            0\n",
            "total_of_special_requests              0\n",
            "reservation_status                     0\n",
            "reservation_status_date                0\n",
            "dtype: int64\n"
          ]
        }
      ]
    },
    {
      "cell_type": "markdown",
      "source": [
        "We see that there are 32 columns in the dataframe and some columns like 'children', 'company', 'country', and 'agent' have null values."
      ],
      "metadata": {
        "id": "-tRecIhXM0Wp"
      }
    },
    {
      "cell_type": "markdown",
      "source": [
        "## **2. Understanding your variables**"
      ],
      "metadata": {
        "id": "ieYWFbUvUBAa"
      }
    },
    {
      "cell_type": "code",
      "source": [
        "# Dataset description\n",
        "hotel_df.describe()"
      ],
      "metadata": {
        "id": "3Fg0C4UDUakm"
      },
      "execution_count": null,
      "outputs": []
    },
    {
      "cell_type": "markdown",
      "source": [
        "### Check unique values for each variable"
      ],
      "metadata": {
        "id": "t8mjg0M-YAto"
      }
    },
    {
      "cell_type": "code",
      "source": [
        "# creating copy of Dataframe\n",
        "df1 = hotel_df.copy()"
      ],
      "metadata": {
        "id": "QNhh3FhvYe9q"
      },
      "execution_count": null,
      "outputs": []
    },
    {
      "cell_type": "code",
      "source": [
        "# unique values\n",
        "df1['hotel'].unique()"
      ],
      "metadata": {
        "id": "UoBKAiYLPILy",
        "outputId": "4560ee39-2747-4778-8900-99503e8415b4",
        "colab": {
          "base_uri": "https://localhost:8080/"
        }
      },
      "execution_count": null,
      "outputs": [
        {
          "output_type": "execute_result",
          "data": {
            "text/plain": [
              "array(['Resort Hotel', 'City Hotel'], dtype=object)"
            ]
          },
          "metadata": {},
          "execution_count": 12
        }
      ]
    },
    {
      "cell_type": "code",
      "source": [
        "df1['is_canceled'].unique()"
      ],
      "metadata": {
        "colab": {
          "base_uri": "https://localhost:8080/"
        },
        "id": "yid1_exwYo6I",
        "outputId": "ba60997a-8712-41e7-dd7b-3f36491a2fde"
      },
      "execution_count": null,
      "outputs": [
        {
          "output_type": "execute_result",
          "data": {
            "text/plain": [
              "array([0, 1])"
            ]
          },
          "metadata": {},
          "execution_count": 13
        }
      ]
    },
    {
      "cell_type": "code",
      "source": [
        "df1['arrival_date_year'].unique()"
      ],
      "metadata": {
        "colab": {
          "base_uri": "https://localhost:8080/"
        },
        "id": "2NfAdHlSY9km",
        "outputId": "d8c5402d-d466-4820-fe0e-13eccc83e2d5"
      },
      "execution_count": null,
      "outputs": [
        {
          "output_type": "execute_result",
          "data": {
            "text/plain": [
              "array([2015, 2016, 2017])"
            ]
          },
          "metadata": {},
          "execution_count": 14
        }
      ]
    },
    {
      "cell_type": "code",
      "source": [
        "df1['meal'].unique()"
      ],
      "metadata": {
        "colab": {
          "base_uri": "https://localhost:8080/"
        },
        "id": "8kLcYKRIZkxr",
        "outputId": "5c1aa63f-2030-4196-8200-0e88aaf99b9f"
      },
      "execution_count": null,
      "outputs": [
        {
          "output_type": "execute_result",
          "data": {
            "text/plain": [
              "array(['BB', 'FB', 'HB', 'SC', 'Undefined'], dtype=object)"
            ]
          },
          "metadata": {},
          "execution_count": 15
        }
      ]
    },
    {
      "cell_type": "code",
      "source": [
        "df1['market_segment'].unique()"
      ],
      "metadata": {
        "colab": {
          "base_uri": "https://localhost:8080/"
        },
        "id": "TuunhTL3ZzST",
        "outputId": "cb17dd05-91ba-4e06-9f7f-63bddfe7aaca"
      },
      "execution_count": null,
      "outputs": [
        {
          "output_type": "execute_result",
          "data": {
            "text/plain": [
              "array(['Direct', 'Corporate', 'Online TA', 'Offline TA/TO',\n",
              "       'Complementary', 'Groups', 'Undefined', 'Aviation'], dtype=object)"
            ]
          },
          "metadata": {},
          "execution_count": 16
        }
      ]
    },
    {
      "cell_type": "code",
      "source": [
        "df1['distribution_channel'].unique()"
      ],
      "metadata": {
        "colab": {
          "base_uri": "https://localhost:8080/"
        },
        "id": "REXAdUGIaWe5",
        "outputId": "def998e3-a5dc-4dd8-c30c-acc30f5e6498"
      },
      "execution_count": null,
      "outputs": [
        {
          "output_type": "execute_result",
          "data": {
            "text/plain": [
              "array(['Direct', 'Corporate', 'TA/TO', 'Undefined', 'GDS'], dtype=object)"
            ]
          },
          "metadata": {},
          "execution_count": 17
        }
      ]
    },
    {
      "cell_type": "code",
      "source": [
        "df1['children'].unique()"
      ],
      "metadata": {
        "colab": {
          "base_uri": "https://localhost:8080/"
        },
        "id": "ZbBy7aTaai3y",
        "outputId": "fef8ae62-211f-449b-be82-b78ed2a313da"
      },
      "execution_count": null,
      "outputs": [
        {
          "output_type": "execute_result",
          "data": {
            "text/plain": [
              "array([ 0.,  1.,  2., 10.,  3., nan])"
            ]
          },
          "metadata": {},
          "execution_count": 18
        }
      ]
    },
    {
      "cell_type": "markdown",
      "metadata": {
        "id": "PBTbrJXOngz2"
      },
      "source": [
        "### Variables Description"
      ]
    },
    {
      "cell_type": "markdown",
      "metadata": {
        "id": "aJV4KIxSnxay"
      },
      "source": [
        "1. **hotel**: Categorical - Resort hotel or city hotel.\n",
        "2.\t**is_canceled**: ‘1’ for booking and ‘0’  not cancelled.\n",
        "3.\t**lead_time**: Period between time of booking and checking in (considered in days here).\n",
        "4.\t**arrival_date_month**: Arrival month\n",
        "5.\t**country**: Country of origin. List of 158 countries.\n",
        "6.\t**days_in_waiting_list**: Number of waiting days.\n",
        "7.\t**Deposit_type**: Categorical - No-deposit, Non-Refund, Refundable.\n",
        "8.\t**Adr**: Average Daily rate as defined by the average rental revenue earned for an occupied room per day.\n",
        "9.\t**Adults, Babies, Children**: Number of adults, babies and children.\n",
        "10.\t**Assigned Room Type**: Code for the type of room assigned to the booking.\n",
        "11.\t**Booking Changes**: Number of changes/amendments made to the booking from the moment the booking was entered on the PMS until the moment of check-in or cancellation.\n",
        "12.\t**Distribution_channel**: Booking distribution channel.\n",
        "13.\t**Is_repeated_guest’**: Categorical- repeated guest(1) or not (0).\n",
        "14.\t**Company**: ID of the company/entity that made the booking or responsible for paying the booking.\n",
        "15.\t**Customer Type**: Categorical:\n",
        "- Contract – when the booking has an allotment or other type of contract\n",
        "associated to it\n",
        "- Group – when the booking is associated to a group;\n",
        "- Transient – when the bookings is not part of a group or contract, and is not associated to other transient booking;\n",
        "- Transient party – when the booking is transient to at least other transient booking.\n",
        "16.\t**Market_segment**: Market segment designation.\n",
        "17.\t**Previous_cancellations**: Number of previous bookings that were cancelled by the customer prior to the current booking.\n",
        "18.\t**Required_car_parking_spaces**: Number of car parking spaces required by the customer.\n",
        "19.\t**Reservation_status**:Categorical:\n",
        "- Cancelled – booking was cancelled by the customer.\n",
        "- Check Out – customer has checked in but already departed.\n",
        "- No Show – customer did not check in and did inform the hotel of the reason why.\n",
        "20.\t**Reservation_status_date**: Date at which the last status was set. This variable can be used in conjunction with the Reservation Status to understand when was the booking canceled or when did the customer checked-out of the hotel.\n",
        "21.\t**Reserved_room_type**: Code of room type reserved.\n",
        "22.\t**Types_of_special_requests**: Number of special requests made by the customer (e.g. Twin bed or high floor)\n",
        "23.\t**Stays_in_weekend_nights**, **Stays_in_week_nights**: Number of weekend nights and week nights the guest stayed or booked to stay at the hotel.\n"
      ]
    },
    {
      "cell_type": "markdown",
      "source": [
        "First of all we will try to understand the meaning of all columns of the dataframe.\n",
        "For this we will see the unique values attained by each column whose meaning we are unable to understand."
      ],
      "metadata": {
        "id": "TmHVPAqUOYoW"
      }
    },
    {
      "cell_type": "markdown",
      "source": [
        "## **3. Data wrangling**"
      ],
      "metadata": {
        "id": "0U2n9ljLyerI"
      }
    },
    {
      "cell_type": "markdown",
      "source": [
        "Data Wrangling is crucial step before EDA as it will remove the ambigous data that can affect the outcome of EDA.\n",
        "1. Remove duplicate rows.\n",
        "2. Handling missing values.\n",
        "3. Convert columns to appropriate datatypes.\n",
        "4. Adding important columns"
      ],
      "metadata": {
        "id": "ywQy_MtCzLVj"
      }
    },
    {
      "cell_type": "markdown",
      "source": [
        "#### Step 1: Removing duplicate rows if any"
      ],
      "metadata": {
        "id": "tQssTFBmz1_0"
      }
    },
    {
      "cell_type": "code",
      "source": [
        "# Show no. of rows of duplicate rows duplicate rows\n",
        "df1[df1.duplicated()].shape"
      ],
      "metadata": {
        "colab": {
          "base_uri": "https://localhost:8080/"
        },
        "id": "jv_uH-Ef0A2W",
        "outputId": "77713604-51fc-427d-a0f6-6a5cdc201039"
      },
      "execution_count": null,
      "outputs": [
        {
          "output_type": "execute_result",
          "data": {
            "text/plain": [
              "(31994, 32)"
            ]
          },
          "metadata": {},
          "execution_count": 19
        }
      ]
    },
    {
      "cell_type": "code",
      "source": [
        "# Dropping duplicate values\n",
        "df1.drop_duplicates(inplace = True)"
      ],
      "metadata": {
        "id": "rdET2y9l0zXF"
      },
      "execution_count": null,
      "outputs": []
    },
    {
      "cell_type": "code",
      "source": [
        "df1.shape"
      ],
      "metadata": {
        "colab": {
          "base_uri": "https://localhost:8080/"
        },
        "id": "Zw-UVI0A1fo_",
        "outputId": "ccf26004-90fa-4ca6-991e-d94eb45e4c0c"
      },
      "execution_count": null,
      "outputs": [
        {
          "output_type": "execute_result",
          "data": {
            "text/plain": [
              "(87396, 32)"
            ]
          },
          "metadata": {},
          "execution_count": 21
        }
      ]
    },
    {
      "cell_type": "markdown",
      "source": [
        "#### Step 2. Handling missing value."
      ],
      "metadata": {
        "id": "7PEGtTI61nDF"
      }
    },
    {
      "cell_type": "code",
      "source": [
        "# columns having missing values\n",
        "df1.isnull().sum().sort_values(ascending = False)[:6]"
      ],
      "metadata": {
        "colab": {
          "base_uri": "https://localhost:8080/"
        },
        "id": "Ymhb66mJ2bTn",
        "outputId": "6ea25840-61d5-4428-b2c7-f14c9a35859c"
      },
      "execution_count": null,
      "outputs": [
        {
          "output_type": "execute_result",
          "data": {
            "text/plain": [
              "company               82137\n",
              "agent                 12193\n",
              "country                 452\n",
              "children                  4\n",
              "reserved_room_type        0\n",
              "assigned_room_type        0\n",
              "dtype: int64"
            ]
          },
          "metadata": {},
          "execution_count": 22
        }
      ]
    },
    {
      "cell_type": "markdown",
      "source": [
        "Since, company and agent columns have company number and agent numbers as data. There may be some cases when     customer didnt booked hotel via any agent or via any company. So in that case values can be null under these columns.\n",
        "We will replace null values by 0 in these columns."
      ],
      "metadata": {
        "id": "IByDcBVF3-51"
      }
    },
    {
      "cell_type": "code",
      "source": [
        "df1[['company','agent']] = df1[['company','agent']].fillna(0)"
      ],
      "metadata": {
        "id": "IAreTvXE_EWg"
      },
      "execution_count": null,
      "outputs": []
    },
    {
      "cell_type": "code",
      "source": [
        "df1['children'].unique()"
      ],
      "metadata": {
        "colab": {
          "base_uri": "https://localhost:8080/"
        },
        "id": "9W-8nbqwCBgF",
        "outputId": "bb93192d-9c26-444d-839a-da05502dd2ba"
      },
      "execution_count": null,
      "outputs": [
        {
          "output_type": "execute_result",
          "data": {
            "text/plain": [
              "array([ 0.,  1.,  2., 10.,  3., nan])"
            ]
          },
          "metadata": {},
          "execution_count": 24
        }
      ]
    },
    {
      "cell_type": "markdown",
      "source": [
        "This column 'children' has 0 as value which means 0 children were present in group of customers who made that transaction.\n",
        "So, 'nan' values are the missing values due to error of recording data.\n",
        "We will replace the null values under this column with mean value of children."
      ],
      "metadata": {
        "id": "f_YFuDQrF1lw"
      }
    },
    {
      "cell_type": "code",
      "source": [
        "df1['children'].fillna(df1['children'].mean(), inplace = True)"
      ],
      "metadata": {
        "id": "-B0RwCAlGw-c"
      },
      "execution_count": null,
      "outputs": []
    },
    {
      "cell_type": "markdown",
      "source": [
        "Next column with missing value is 'country'. This column represents the country of origin of customer.\n",
        "Since this column has datatype of string. We will replace the missing value with the mode of 'country' column."
      ],
      "metadata": {
        "id": "O3OeRgYqI_60"
      }
    },
    {
      "cell_type": "code",
      "source": [
        " df1['country'].fillna('others', inplace = True)"
      ],
      "metadata": {
        "id": "QzmrFCxpKO8-"
      },
      "execution_count": null,
      "outputs": []
    },
    {
      "cell_type": "code",
      "source": [
        "#checking if all null values are removed\n",
        "df1.isnull().sum().sort_values(ascending = False)[:6]"
      ],
      "metadata": {
        "colab": {
          "base_uri": "https://localhost:8080/"
        },
        "id": "Np29JFGttlop",
        "outputId": "31d88e08-804d-42ee-e60b-fd4f72e676b5"
      },
      "execution_count": null,
      "outputs": [
        {
          "output_type": "execute_result",
          "data": {
            "text/plain": [
              "hotel                          0\n",
              "is_canceled                    0\n",
              "reservation_status             0\n",
              "total_of_special_requests      0\n",
              "required_car_parking_spaces    0\n",
              "adr                            0\n",
              "dtype: int64"
            ]
          },
          "metadata": {},
          "execution_count": 27
        }
      ]
    },
    {
      "cell_type": "markdown",
      "source": [
        "There are some rows with total number of adults, children or babies equal to zero.So we will replace such rows"
      ],
      "metadata": {
        "id": "bVghq-ruueV_"
      }
    },
    {
      "cell_type": "code",
      "source": [
        "df1[df1['adults']+df1['babies']+df1['children'] == 0].shape"
      ],
      "metadata": {
        "colab": {
          "base_uri": "https://localhost:8080/"
        },
        "id": "4O1HyGGSvLNz",
        "outputId": "56090743-9ea4-4a5c-bdf5-4d3a72b63b5a"
      },
      "execution_count": null,
      "outputs": [
        {
          "output_type": "execute_result",
          "data": {
            "text/plain": [
              "(166, 32)"
            ]
          },
          "metadata": {},
          "execution_count": 28
        }
      ]
    },
    {
      "cell_type": "code",
      "source": [
        "df1.drop(df1[df1['adults']+df1['babies']+df1['children'] == 0].index, inplace = True)"
      ],
      "metadata": {
        "id": "HkXCVU1Qwjkf"
      },
      "execution_count": null,
      "outputs": []
    },
    {
      "cell_type": "markdown",
      "source": [
        "#### Step 3: Converting columns to appropriate datatypes"
      ],
      "metadata": {
        "id": "EXQOLp6wxrMv"
      }
    },
    {
      "cell_type": "code",
      "source": [
        "# converting datatype of columns 'children', 'agent', and 'company'from float to int.\n",
        "df1[['children','company','agent']] = df1[['children', 'company', 'agent']].astype('int64')"
      ],
      "metadata": {
        "id": "tNtbPfiHyQFK"
      },
      "execution_count": null,
      "outputs": []
    },
    {
      "cell_type": "markdown",
      "source": [
        "#### Step: 4 Adding important columns"
      ],
      "metadata": {
        "id": "2Y1mhJkCPgMl"
      }
    },
    {
      "cell_type": "code",
      "source": [
        "#Adding total staying in hotels\n",
        "df1['total_stay'] = df1['stays_in_weekend_nights'] + df1['stays_in_week_nights']"
      ],
      "metadata": {
        "id": "IqTikzq3P0Aq"
      },
      "execution_count": null,
      "outputs": []
    },
    {
      "cell_type": "code",
      "source": [
        "# adding total people num as column, i.e. total people num = num of adults + children + babies\n",
        "df1['total_people'] = df1['adults'] + df1['children'] + df1['babies']"
      ],
      "metadata": {
        "id": "7VWt1kE7Rv5k"
      },
      "execution_count": null,
      "outputs": []
    },
    {
      "cell_type": "markdown",
      "source": [
        "We are adding this column so that we can analyse th stay lenght at hotels."
      ],
      "metadata": {
        "id": "-VkSqakkaRbM"
      }
    }
  ],
  "metadata": {
    "colab": {
      "provenance": [],
      "collapsed_sections": [
        "vncDsAP0Gaoa",
        "FJNUwmbgGyua",
        "yQaldy8SH6Dl",
        "PH-0ReGfmX4f",
        "eP3XLlbjaX96",
        "ieYWFbUvUBAa",
        "t8mjg0M-YAto",
        "PBTbrJXOngz2",
        "0U2n9ljLyerI",
        "tQssTFBmz1_0",
        "7PEGtTI61nDF",
        "EXQOLp6wxrMv",
        "2Y1mhJkCPgMl",
        "9yrK1iL2jpt6",
        "4_KgHuUEUlx3"
      ]
    },
    "kernelspec": {
      "display_name": "Python 3",
      "name": "python3"
    }
  },
  "nbformat": 4,
  "nbformat_minor": 0
}